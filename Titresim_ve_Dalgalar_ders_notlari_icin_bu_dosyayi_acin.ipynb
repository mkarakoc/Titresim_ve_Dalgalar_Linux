{
 "cells": [
  {
   "cell_type": "markdown",
   "metadata": {},
   "source": [
    "<b>\n",
    "<font size=\"6\" face='bold' color=\"blue\">TİTREŞİM ve DALGAR / FİZ220 </font> \n",
    "<br>\n",
    "<font size=\"5\"> Yrd. Doç. Dr. Mesut Karakoç </font>\n",
    "</b>\n",
    "<br>\n",
    "<font size=\"4\" color=\"black\"> \n",
    "Akdeniz Üniversitesi, Fen Fakültesi, Fizik Bölümü <br>\n",
    "    \n",
    "2017 - 2018 Bahar Dönemi \n",
    "</font>\n",
    "<br>"
   ]
  },
  {
   "cell_type": "code",
   "execution_count": 27,
   "metadata": {
    "ExecuteTime": {
     "end_time": "2018-02-06T20:45:02.875183Z",
     "start_time": "2018-02-06T20:45:02.867337Z"
    },
    "hide_input": false,
    "scrolled": false
   },
   "outputs": [
    {
     "data": {
      "text/html": [
       "\n",
       "<!-- ******************************************************** -->\n",
       "<!-- **************** Kod hücrelerini sakla ***************** -->\n",
       "<!-- ******************************************************** -->\n",
       "<!-- https://stackoverflow.com/questions/31517194/how-to-hide-one-specific-cell-input-or-output-in-ipython-notebook -->\n",
       "<script> \n",
       "code_show=true; \n",
       "function code_toggle() {\n",
       "    if (code_show){$('div.input').hide();} else {$('div.input').show();}\n",
       "    if (code_show){$('div.cell.code_cell.rendered.selected div.input').hide();} \n",
       "    else          {$('div.cell.code_cell.rendered.selected div.input').hide();}\n",
       "    code_show = !code_show }\n",
       "$(document).ready(code_toggle);\n",
       "</script>\n",
       "\n",
       "<a href=\"javascript:code_toggle()\" style=\"text-decoration:none\" \n",
       "class=\"btn btn-default btn-danger btn-large fa fa-toggle-on\">\n",
       "&nbsp;&nbsp;&nbsp; Kod hücrelerini, KAPAT / AÇ! </a>\n",
       "<!-- ######################################################### -->\n",
       "<!-- ######################################################### -->\n",
       "\n",
       "<!-- ********************************************************* -->\n",
       "<!-- ****** Trusted Notebookları başlangıçta çalıştır   ****** -->\n",
       "<!-- ****** jupyter trust *.ipynb                       ****** -->\n",
       "<!-- ****** ile bütün notebooklar güvenilir yapılabilir.****** -->\n",
       "<!-- ********************************************************* -->\n",
       "<!--https://stackoverflow.com/questions/31984196/ipython-notebook-run-all-cells-on-open -->\n",
       "<script>\n",
       "    // AUTORUN ALL CELLS ON NOTEBOOK-LOAD!\n",
       "    require(\n",
       "        ['base/js/namespace', 'jquery'], \n",
       "        function(jupyter, $) {\n",
       "            $(jupyter.events).on(\"kernel_ready.Kernel\", function () {\n",
       "                console.log(\"Auto-running all cells-below...\");\n",
       "                jupyter.actions.call('jupyter-notebook:run-all-cells-below');\n",
       "             // jupyter.actions.call('jupyter-notebook:save-notebook');\n",
       "            });\n",
       "        }\n",
       "    );\n",
       "</script>\n",
       "<!-- ######################################################### -->\n",
       "<!-- ######################################################### -->\n",
       "\n",
       "<!-- ******************************************************** -->\n",
       "<!-- HTML için gerekli stilleri buradan ayarla                -->\n",
       "<!-- Bu hücreyi nbextension'dan 'hide input' kullanarak sakla -->\n",
       "<!-- ******************************************************** -->\n",
       "\n",
       "<style>\n",
       "table.a, tr.a {text-align: left !important; \n",
       "         font-size: 20px;}\n",
       "\n",
       "table.b {text-align: left !important; \n",
       "         font-size: 16px;\n",
       "         margin: 0;}\n",
       "\n",
       "td.b {text-align: left !important;}\n",
       "\n",
       "li {text-align: left;}\n",
       "</style>\n",
       "<!-- ######################################################### -->\n",
       "<!-- ######################################################### -->\n",
       "\n",
       "<!-- ********************************************************* -->\n",
       "<!-- ****** Sayfa yönlendirme butonları                 ****** -->\n",
       "<!-- ********************************************************* -->\n",
       "&nbsp;&nbsp;&nbsp;&nbsp;\n",
       "<tr align='left'>\n",
       "    <th>\n",
       "     <a href=\"./00_titresim_ve_dalgalar.ipynb\" target=\"_blank\">\n",
       "       <button>\n",
       "       <i class=\"fa fa-arrow-circle-left fa-2x\" style=\"color: firebrick ; vertical-align: middle\"></i> Önceki Sayfa\n",
       "       </button> \n",
       "     </a>\n",
       "    </th>\n",
       "    \n",
       "    <th>&nbsp;&nbsp;&nbsp;&nbsp;&nbsp;&nbsp;&nbsp;&nbsp;&nbsp;&nbsp;</th>    \n",
       "    \n",
       "    <th>\n",
       "     <a href=\"./00_titresim_ve_dalgalar.ipynb\" target=\"_blank\">\n",
       "       <button>\n",
       "       <i class=\"fa fa-home fa-2x\" style=\"color: firebrick ; vertical-align: middle\"></i> Ana Sayfa\n",
       "       </button> \n",
       "     </a>\n",
       "    </th>\n",
       "    \n",
       "    <th>&nbsp;&nbsp;&nbsp;&nbsp;&nbsp;&nbsp;&nbsp;&nbsp;&nbsp;&nbsp;</th>\n",
       "    \n",
       "    <th>\n",
       "     <a href=\"./02_titresim_ve_dalgalar.ipynb\" target=\"_blank\">\n",
       "       <button>\n",
       "       Sonraki Sayfa <i class=\"fa fa-arrow-circle-right fa-2x\" style=\"color: firebrick ; vertical-align: middle\"></i>\n",
       "       </button>\n",
       "     </a>\n",
       "    </th>\n",
       "</tr>\n",
       "<!-- ######################################################### -->\n",
       "<!-- ######################################################### -->"
      ],
      "text/plain": [
       "<IPython.core.display.HTML object>"
      ]
     },
     "metadata": {},
     "output_type": "display_data"
    }
   ],
   "source": [
    "%%html\n",
    "\n",
    "<!-- ******************************************************** -->\n",
    "<!-- **************** Kod hücrelerini sakla ***************** -->\n",
    "<!-- ******************************************************** -->\n",
    "<!-- https://stackoverflow.com/questions/31517194/how-to-hide-one-specific-cell-input-or-output-in-ipython-notebook -->\n",
    "<script> \n",
    "code_show=true; \n",
    "function code_toggle() {\n",
    "    if (code_show){$('div.input').hide();} else {$('div.input').show();}\n",
    "    if (code_show){$('div.cell.code_cell.rendered.selected div.input').hide();} \n",
    "    else          {$('div.cell.code_cell.rendered.selected div.input').hide();}\n",
    "    code_show = !code_show }\n",
    "$(document).ready(code_toggle);\n",
    "</script>\n",
    "\n",
    "<a href=\"javascript:code_toggle()\" style=\"text-decoration:none\" \n",
    "class=\"btn btn-default btn-danger btn-large fa fa-toggle-on\">\n",
    "&nbsp;&nbsp;&nbsp; Kod hücrelerini, KAPAT / AÇ! </a>\n",
    "<!-- ######################################################### -->\n",
    "<!-- ######################################################### -->\n",
    "\n",
    "<!-- ********************************************************* -->\n",
    "<!-- ****** Trusted Notebookları başlangıçta çalıştır   ****** -->\n",
    "<!-- ****** jupyter trust *.ipynb                       ****** -->\n",
    "<!-- ****** ile bütün notebooklar güvenilir yapılabilir.****** -->\n",
    "<!-- ********************************************************* -->\n",
    "<!--https://stackoverflow.com/questions/31984196/ipython-notebook-run-all-cells-on-open -->\n",
    "<script>\n",
    "    // AUTORUN ALL CELLS ON NOTEBOOK-LOAD!\n",
    "    require(\n",
    "        ['base/js/namespace', 'jquery'], \n",
    "        function(jupyter, $) {\n",
    "            $(jupyter.events).on(\"kernel_ready.Kernel\", function () {\n",
    "                console.log(\"Auto-running all cells-below...\");\n",
    "                jupyter.actions.call('jupyter-notebook:run-all-cells-below');\n",
    "             // jupyter.actions.call('jupyter-notebook:save-notebook');\n",
    "            });\n",
    "        }\n",
    "    );\n",
    "</script>\n",
    "<!-- ######################################################### -->\n",
    "<!-- ######################################################### -->\n",
    "\n",
    "<!-- ******************************************************** -->\n",
    "<!-- HTML için gerekli stilleri buradan ayarla                -->\n",
    "<!-- Bu hücreyi nbextension'dan 'hide input' kullanarak sakla -->\n",
    "<!-- ******************************************************** -->\n",
    "\n",
    "<style>\n",
    "table.a, tr.a {text-align: left !important; \n",
    "         font-size: 20px;}\n",
    "\n",
    "table.b {text-align: left !important; \n",
    "         font-size: 16px;\n",
    "         margin: 0;}\n",
    "\n",
    "td.b {text-align: left !important;}\n",
    "\n",
    "li {text-align: left;}\n",
    "</style>\n",
    "<!-- ######################################################### -->\n",
    "<!-- ######################################################### -->\n",
    "\n",
    "<!-- ********************************************************* -->\n",
    "<!-- ****** Sayfa yönlendirme butonları                 ****** -->\n",
    "<!-- ********************************************************* -->\n",
    "&nbsp;&nbsp;&nbsp;&nbsp;\n",
    "<tr align='left'>\n",
    "    <th>\n",
    "     <a href=\"./00_titresim_ve_dalgalar.ipynb\" target=\"_blank\">\n",
    "       <button>\n",
    "       <i class=\"fa fa-arrow-circle-left fa-2x\" style=\"color: firebrick ; vertical-align: middle\"></i> Önceki Sayfa\n",
    "       </button> \n",
    "     </a>\n",
    "    </th>\n",
    "    \n",
    "    <th>&nbsp;&nbsp;&nbsp;&nbsp;&nbsp;&nbsp;&nbsp;&nbsp;&nbsp;&nbsp;</th>    \n",
    "    \n",
    "    <th>\n",
    "     <a href=\"./00_titresim_ve_dalgalar.ipynb\" target=\"_blank\">\n",
    "       <button>\n",
    "       <i class=\"fa fa-home fa-2x\" style=\"color: firebrick ; vertical-align: middle\"></i> Ana Sayfa\n",
    "       </button> \n",
    "     </a>\n",
    "    </th>\n",
    "    \n",
    "    <th>&nbsp;&nbsp;&nbsp;&nbsp;&nbsp;&nbsp;&nbsp;&nbsp;&nbsp;&nbsp;</th>\n",
    "    \n",
    "    <th>\n",
    "     <a href=\"./02_titresim_ve_dalgalar.ipynb\" target=\"_blank\">\n",
    "       <button>\n",
    "       Sonraki Sayfa <i class=\"fa fa-arrow-circle-right fa-2x\" style=\"color: firebrick ; vertical-align: middle\"></i>\n",
    "       </button>\n",
    "     </a>\n",
    "    </th>\n",
    "</tr>\n",
    "<!-- ######################################################### -->\n",
    "<!-- ######################################################### -->"
   ]
  },
  {
   "cell_type": "markdown",
   "metadata": {},
   "source": [
    "** Titreşim ve Dalgalar ders notları indiriliyor... **"
   ]
  },
  {
   "cell_type": "code",
   "execution_count": 28,
   "metadata": {
    "ExecuteTime": {
     "end_time": "2018-02-06T20:45:17.667451Z",
     "start_time": "2018-02-06T20:45:02.878321Z"
    }
   },
   "outputs": [
    {
     "name": "stdout",
     "output_type": "stream",
     "text": [
      "Cloning into 'Titresim_ve_Dalgalar'...\n",
      "remote: Counting objects: 215, done.\u001b[K\n",
      "remote: Compressing objects: 100% (17/17), done.\u001b[K\n",
      "remote: Total 215 (delta 10), reused 21 (delta 8), pack-reused 190\u001b[K\n",
      "Receiving objects: 100% (215/215), 34.44 MiB | 3.73 MiB/s, done.\n",
      "Resolving deltas: 100% (114/114), done.\n",
      "Checking connectivity... done.\n"
     ]
    }
   ],
   "source": [
    "!git clone https://github.com/mkarakoc/Titresim_ve_Dalgalar.git"
   ]
  },
  {
   "cell_type": "markdown",
   "metadata": {},
   "source": [
    "**İndirilen dosya ve klasörler**"
   ]
  },
  {
   "cell_type": "code",
   "execution_count": 29,
   "metadata": {
    "ExecuteTime": {
     "end_time": "2018-02-06T20:45:17.783059Z",
     "start_time": "2018-02-06T20:45:17.670131Z"
    }
   },
   "outputs": [
    {
     "name": "stdout",
     "output_type": "stream",
     "text": [
      "clone_titresim_ve_dalgalar_dersnotlari.ipynb  Titresim_ve_Dalgalar\r\n",
      "github_bilgileri.ipynb\r\n"
     ]
    }
   ],
   "source": [
    "!ls"
   ]
  },
  {
   "cell_type": "markdown",
   "metadata": {},
   "source": [
    "**dernotlari klasörü üst klasöre taşınıyor**"
   ]
  },
  {
   "cell_type": "code",
   "execution_count": 30,
   "metadata": {
    "ExecuteTime": {
     "end_time": "2018-02-06T20:45:18.011101Z",
     "start_time": "2018-02-06T20:45:17.786318Z"
    }
   },
   "outputs": [],
   "source": [
    "!mv ./Titresim_ve_Dalgalar/dersnotlari/ ./"
   ]
  },
  {
   "cell_type": "markdown",
   "metadata": {},
   "source": [
    "**Dosyalar tekrar listeleniyor**"
   ]
  },
  {
   "cell_type": "code",
   "execution_count": 31,
   "metadata": {
    "ExecuteTime": {
     "end_time": "2018-02-06T20:45:18.137162Z",
     "start_time": "2018-02-06T20:45:18.014557Z"
    }
   },
   "outputs": [
    {
     "name": "stdout",
     "output_type": "stream",
     "text": [
      "clone_titresim_ve_dalgalar_dersnotlari.ipynb  github_bilgileri.ipynb\r\n",
      "dersnotlari\t\t\t\t      Titresim_ve_Dalgalar\r\n"
     ]
    }
   ],
   "source": [
    "!ls"
   ]
  },
  {
   "cell_type": "markdown",
   "metadata": {},
   "source": [
    "**Titresim_ve_Dalgalar klasörü siliniyor**"
   ]
  },
  {
   "cell_type": "code",
   "execution_count": 32,
   "metadata": {
    "ExecuteTime": {
     "end_time": "2018-02-06T20:45:18.272618Z",
     "start_time": "2018-02-06T20:45:18.140754Z"
    }
   },
   "outputs": [],
   "source": [
    "!rm -rf Titresim_ve_Dalgalar"
   ]
  },
  {
   "cell_type": "markdown",
   "metadata": {},
   "source": [
    "**Dosyalar tekrar listeleniyor**"
   ]
  },
  {
   "cell_type": "code",
   "execution_count": 33,
   "metadata": {
    "ExecuteTime": {
     "end_time": "2018-02-06T20:45:18.400398Z",
     "start_time": "2018-02-06T20:45:18.276853Z"
    }
   },
   "outputs": [
    {
     "name": "stdout",
     "output_type": "stream",
     "text": [
      "clone_titresim_ve_dalgalar_dersnotlari.ipynb  github_bilgileri.ipynb\r\n",
      "dersnotlari\r\n"
     ]
    }
   ],
   "source": [
    "!ls"
   ]
  },
  {
   "cell_type": "markdown",
   "metadata": {},
   "source": [
    "**\"Jupyter notebook\"lar güvenilir (trusted) yapılıyor.**"
   ]
  },
  {
   "cell_type": "code",
   "execution_count": 34,
   "metadata": {
    "ExecuteTime": {
     "end_time": "2018-02-06T20:45:18.979591Z",
     "start_time": "2018-02-06T20:45:18.404183Z"
    }
   },
   "outputs": [
    {
     "name": "stdout",
     "output_type": "stream",
     "text": [
      "Notebook already signed: ./dersnotlari/00_titresim_ve_dalgalar.ipynb\n",
      "Notebook already signed: ./dersnotlari/01_titresim_ve_dalgalar.ipynb\n",
      "Notebook already signed: ./dersnotlari/02_titresim_ve_dalgalar.ipynb\n"
     ]
    }
   ],
   "source": [
    "!jupyter trust ./dersnotlari/*.ipynb"
   ]
  },
  {
   "cell_type": "markdown",
   "metadata": {
    "ExecuteTime": {
     "end_time": "2018-02-06T20:38:26.876775Z",
     "start_time": "2018-02-06T20:38:26.755778Z"
    }
   },
   "source": [
    "# [Ders notlarını açmak için buraya tıkla!](./dersnotlari)"
   ]
  },
  {
   "cell_type": "code",
   "execution_count": null,
   "metadata": {},
   "outputs": [],
   "source": []
  }
 ],
 "metadata": {
  "hide_input": false,
  "kernelspec": {
   "display_name": "Python 2",
   "language": "python",
   "name": "python2"
  },
  "language_info": {
   "codemirror_mode": {
    "name": "ipython",
    "version": 2
   },
   "file_extension": ".py",
   "mimetype": "text/x-python",
   "name": "python",
   "nbconvert_exporter": "python",
   "pygments_lexer": "ipython2",
   "version": "2.7.6"
  },
  "toc": {
   "collapse_to_match_collapsible_headings": true,
   "colors": {
    "hover_highlight": "#DAA520",
    "running_highlight": "#FF0000",
    "selected_highlight": "#FFD700"
   },
   "moveMenuLeft": true,
   "nav_menu": {
    "height": "48px",
    "width": "252px"
   },
   "navigate_menu": true,
   "number_sections": true,
   "sideBar": true,
   "threshold": 4,
   "toc_cell": false,
   "toc_position": {
    "height": "675px",
    "left": "0px",
    "right": "793px",
    "top": "160px",
    "width": "252px"
   },
   "toc_section_display": "block",
   "toc_window_display": true
  },
  "varInspector": {
   "cols": {
    "lenName": 16,
    "lenType": 16,
    "lenVar": 40
   },
   "kernels_config": {
    "python": {
     "delete_cmd_postfix": "",
     "delete_cmd_prefix": "del ",
     "library": "var_list.py",
     "varRefreshCmd": "print(var_dic_list())"
    },
    "r": {
     "delete_cmd_postfix": ") ",
     "delete_cmd_prefix": "rm(",
     "library": "var_list.r",
     "varRefreshCmd": "cat(var_dic_list()) "
    }
   },
   "types_to_exclude": [
    "module",
    "function",
    "builtin_function_or_method",
    "instance",
    "_Feature"
   ],
   "window_display": false
  }
 },
 "nbformat": 4,
 "nbformat_minor": 2
}
